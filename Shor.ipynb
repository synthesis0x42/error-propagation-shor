{
  "cells": [
    {
      "cell_type": "markdown",
      "id": "85955e61-324f-4412-9bac-e6dd69699824",
      "metadata": {
        "id": "85955e61-324f-4412-9bac-e6dd69699824"
      },
      "source": [
        "Note: Be sure to use your API token and your account name."
      ]
    },
    {
      "cell_type": "markdown",
      "id": "ef5152de-a79d-4a8e-9870-77a2d13e265e",
      "metadata": {
        "id": "ef5152de-a79d-4a8e-9870-77a2d13e265e"
      },
      "source": [
        "Step 1. Import the required modules and obtain the backend"
      ]
    },
    {
      "cell_type": "code",
      "execution_count": null,
      "id": "db130cf2-8484-4b94-b64a-9b41f00e1162",
      "metadata": {
        "id": "db130cf2-8484-4b94-b64a-9b41f00e1162",
        "outputId": "114deed1-e3c1-44ad-b779-3aedd5f107ba"
      },
      "outputs": [
        {
          "name": "stdout",
          "output_type": "stream",
          "text": [
            "Requirement already satisfied: QuantumRingsLib in /opt/.qbraid/environments/qbraid_000000/pyenv/lib/python3.11/site-packages (0.9.11)\n",
            "Note: you may need to restart the kernel to use updated packages.\n"
          ]
        }
      ],
      "source": [
        "pip install QuantumRingsLib"
      ]
    },
    {
      "cell_type": "code",
      "execution_count": null,
      "id": "1098cc1a-6195-4fb4-87bb-9001779b002c",
      "metadata": {
        "id": "1098cc1a-6195-4fb4-87bb-9001779b002c",
        "outputId": "3dec8079-cbf7-4c73-9e00-bf420a697bb0"
      },
      "outputs": [
        {
          "data": {
            "text/plain": [
              "{'name': '256-@tutanota.de',\n",
              " 'token': 'rings-64.O2sYUTjDURXkj8yJicIQp1LItQOfroFS',\n",
              " 'max_qubits': '64'}"
            ]
          },
          "execution_count": 5,
          "metadata": {},
          "output_type": "execute_result"
        }
      ],
      "source": [
        "import QuantumRingsLib\n",
        "from QuantumRingsLib import QuantumRegister, AncillaRegister, ClassicalRegister, QuantumCircuit\n",
        "from QuantumRingsLib import QuantumRingsProvider\n",
        "from QuantumRingsLib import job_monitor\n",
        "from QuantumRingsLib import JobStatus\n",
        "from matplotlib import pyplot as plt\n",
        "import numpy as np\n",
        "import math\n",
        "from math import *\n",
        "\n",
        "provider = QuantumRingsProvider(token ='rings-64.O2sYUTjDURXkj8yJicIQp1LItQOfroFS', name='256-@tutanota.de')\n",
        "backend = provider.get_backend(\"scarlet_quantum_rings\")\n",
        "shots = 1024\n",
        "\n",
        "provider.active_account()"
      ]
    },
    {
      "cell_type": "code",
      "execution_count": null,
      "id": "7d558f27-e5c8-429a-89a0-7b87327570c7",
      "metadata": {
        "scrolled": true,
        "id": "7d558f27-e5c8-429a-89a0-7b87327570c7",
        "outputId": "3e7d72e1-e220-4664-b014-589a0c628b4a"
      },
      "outputs": [
        {
          "name": "stdout",
          "output_type": "stream",
          "text": [
            "Requirement already satisfied: quantumrings-toolkit-qiskit in /opt/.qbraid/environments/qbraid_000000/pyenv/lib/python3.11/site-packages (0.1.9)\n",
            "Requirement already satisfied: numpy in /opt/conda/lib/python3.11/site-packages (from quantumrings-toolkit-qiskit) (2.2.2)\n",
            "Requirement already satisfied: qiskit in /opt/.qbraid/environments/qbraid_000000/pyenv/lib/python3.11/site-packages (from quantumrings-toolkit-qiskit) (1.3.2)\n",
            "Requirement already satisfied: QuantumRingsLib in /opt/.qbraid/environments/qbraid_000000/pyenv/lib/python3.11/site-packages (from quantumrings-toolkit-qiskit) (0.9.11)\n",
            "Requirement already satisfied: rustworkx>=0.15.0 in /opt/.qbraid/environments/qbraid_000000/pyenv/lib/python3.11/site-packages (from qiskit->quantumrings-toolkit-qiskit) (0.16.0)\n",
            "Requirement already satisfied: scipy>=1.5 in /opt/.qbraid/environments/qbraid_000000/pyenv/lib/python3.11/site-packages (from qiskit->quantumrings-toolkit-qiskit) (1.15.1)\n",
            "Requirement already satisfied: sympy>=1.3 in /opt/.qbraid/environments/qbraid_000000/pyenv/lib/python3.11/site-packages (from qiskit->quantumrings-toolkit-qiskit) (1.13.3)\n",
            "Requirement already satisfied: dill>=0.3 in /opt/.qbraid/environments/qbraid_000000/pyenv/lib/python3.11/site-packages (from qiskit->quantumrings-toolkit-qiskit) (0.3.9)\n",
            "Requirement already satisfied: python-dateutil>=2.8.0 in /opt/conda/lib/python3.11/site-packages (from qiskit->quantumrings-toolkit-qiskit) (2.9.0)\n",
            "Requirement already satisfied: stevedore>=3.0.0 in /opt/.qbraid/environments/qbraid_000000/pyenv/lib/python3.11/site-packages (from qiskit->quantumrings-toolkit-qiskit) (5.4.0)\n",
            "Requirement already satisfied: typing-extensions in /opt/conda/lib/python3.11/site-packages (from qiskit->quantumrings-toolkit-qiskit) (4.12.2)\n",
            "Requirement already satisfied: symengine<0.14,>=0.11 in /opt/.qbraid/environments/qbraid_000000/pyenv/lib/python3.11/site-packages (from qiskit->quantumrings-toolkit-qiskit) (0.13.0)\n",
            "Requirement already satisfied: six>=1.5 in /opt/conda/lib/python3.11/site-packages (from python-dateutil>=2.8.0->qiskit->quantumrings-toolkit-qiskit) (1.16.0)\n",
            "Requirement already satisfied: pbr>=2.0.0 in /opt/.qbraid/environments/qbraid_000000/pyenv/lib/python3.11/site-packages (from stevedore>=3.0.0->qiskit->quantumrings-toolkit-qiskit) (6.1.0)\n",
            "Requirement already satisfied: mpmath<1.4,>=1.1.0 in /opt/.qbraid/environments/qbraid_000000/pyenv/lib/python3.11/site-packages (from sympy>=1.3->qiskit->quantumrings-toolkit-qiskit) (1.3.0)\n",
            "Note: you may need to restart the kernel to use updated packages.\n"
          ]
        }
      ],
      "source": [
        "%pip install quantumrings-toolkit-qiskit\n"
      ]
    },
    {
      "cell_type": "markdown",
      "id": "f92608ce-86bd-4760-bc1c-ca7e722ae280",
      "metadata": {
        "id": "f92608ce-86bd-4760-bc1c-ca7e722ae280"
      },
      "source": [
        "Step 2. Define the core methods"
      ]
    },
    {
      "cell_type": "code",
      "execution_count": null,
      "id": "a7c5dd4f-4c8f-448e-83ce-7b887199becc",
      "metadata": {
        "id": "a7c5dd4f-4c8f-448e-83ce-7b887199becc"
      },
      "outputs": [],
      "source": [
        "from qiskit import QuantumCircuit, QuantumRegister, ClassicalRegister\n",
        "from qiskit.circuit.library import QFT\n",
        "from fractions import Fraction\n",
        "\n",
        "def quantum_phase_estimation(a: int, N: int) -> QuantumCircuit:\n",
        "    \"\"\"\n",
        "    Implements the quantum phase estimation part of Shor's algorithm.\n",
        "\n",
        "    Args:\n",
        "        a (int): The base for modular exponentiation\n",
        "        N (int): The number to be factored\n",
        "\n",
        "    Returns:\n",
        "        QuantumCircuit: The quantum circuit for phase estimation\n",
        "    \"\"\"\n",
        "    # Calculate required number of qubits\n",
        "    n = len(bin(N)[2:])  # number of qubits needed to store N\n",
        "    t = 2 * n  # number of counting qubits\n",
        "\n",
        "    # Create quantum registers\n",
        "    counting_register = QuantumRegister(t, 'count')\n",
        "    phase_register = QuantumRegister(n, 'phase')\n",
        "    classical_register = ClassicalRegister(t, 'classical')\n",
        "\n",
        "    # Create quantum circuit\n",
        "    qc = QuantumCircuit(counting_register, phase_register, classical_register)\n",
        "\n",
        "    # Initialize counting register to superposition\n",
        "    for qubit in range(t):\n",
        "        qc.h(counting_register[qubit])\n",
        "\n",
        "    # Initialize phase register to |1⟩\n",
        "    qc.x(phase_register[0])\n",
        "\n",
        "    # Apply controlled modular multiplication\n",
        "    for i in range(t):\n",
        "        power = (a**(2**i))%N\n",
        "        controlled_mod_mult(qc, power, N, counting_register[i], phase_register)\n",
        "\n",
        "    # Apply inverse QFT\n",
        "    qc.append(QFT(t).inverse(), counting_register)\n",
        "\n",
        "    # Measure counting register\n",
        "    qc.measure(counting_register, classical_register)\n",
        "\n",
        "    return qc\n",
        "\n",
        "def controlled_mod_mult(qc: QuantumCircuit, a: int, N: int, control: int, target: list) -> None:\n",
        "    \"\"\"\n",
        "    Applies controlled modular multiplication.\n",
        "\n",
        "    Args:\n",
        "        qc (QuantumCircuit): The quantum circuit to modify\n",
        "        a (int): Base for modular exponentiation\n",
        "        N (int): Modulus\n",
        "        control (int): Control qubit index\n",
        "        target (list): Target register\n",
        "    \"\"\"\n",
        "    n = len(target)\n",
        "\n",
        "    # Convert 'a' to binary representation\n",
        "    binary_a = bin(a)[2:].zfill(n)\n",
        "\n",
        "    for i in range(n):\n",
        "        if binary_a[i] == '1':\n",
        "            qc.cx(control, target[i])\n",
        "\n",
        "def find_period(a: int, N: int) -> int:\n",
        "    \"\"\"\n",
        "    Finds the period of f(x) = a^x mod N using quantum phase estimation.\n",
        "\n",
        "    Args:\n",
        "        a (int): Base for modular exponentiation\n",
        "        N (int): Number to factor\n",
        "\n",
        "    Returns:\n",
        "        int: The period of the modular exponentiation function\n",
        "    \"\"\"\n",
        "    # Create and execute quantum circuit\n",
        "    qc = quantum_phase_estimation(a, N)\n",
        "\n",
        "    # Note: In a real quantum computer, you would execute the circuit here\n",
        "    # and process the results to find the period\n",
        "\n",
        "    # For simulation purposes, we'll calculate the period classically\n",
        "    # This is just to demonstrate the structure\n",
        "    x = 1\n",
        "    period = 1\n",
        "    while True:\n",
        "        x = (x * a) % N\n",
        "        if x == 1:\n",
        "            return period\n",
        "        period += 1\n",
        "\n",
        "def shors_algorithm(N: int) -> tuple:\n",
        "    \"\"\"\n",
        "    Implements Shor's algorithm to factor a number N.\n",
        "\n",
        "    Args:\n",
        "        N (int): The number to factor\n",
        "\n",
        "    Returns:\n",
        "        tuple: A pair of factors of N\n",
        "    \"\"\"\n",
        "    if N % 2 == 0:\n",
        "        return (2, N//2)\n",
        "\n",
        "    # Choose random number a < N\n",
        "    a = np.random.randint(2, N)\n",
        "\n",
        "    # Check if we got lucky with GCD\n",
        "    factor = gcd(a, N)\n",
        "    if factor > 1:\n",
        "        return (factor, N//factor)\n",
        "\n",
        "    # Find period using quantum subroutine\n",
        "    r = find_period(a, N)\n",
        "\n",
        "    # If period is odd, try again\n",
        "    if r % 2 != 0:\n",
        "        return shors_algorithm(N)\n",
        "\n",
        "    # Calculate potential factors\n",
        "    factor = gcd(pow(a, r//2, N) - 1, N)\n",
        "    if factor == 1 or factor == N:\n",
        "        return shors_algorithm(N)\n",
        "\n",
        "    return (factor, N//factor)\n",
        "\n"
      ]
    },
    {
      "cell_type": "markdown",
      "id": "2f211c13-04db-4f78-b700-5bde24875ab8",
      "metadata": {
        "id": "2f211c13-04db-4f78-b700-5bde24875ab8"
      },
      "source": [
        "Step 3. Perform the algorithm"
      ]
    },
    {
      "cell_type": "markdown",
      "id": "d69fcca9-6545-4f8a-9758-0865e240a57e",
      "metadata": {
        "id": "d69fcca9-6545-4f8a-9758-0865e240a57e"
      },
      "source": [
        "A plot of the execution results is shown above. Compare this with the calculated values."
      ]
    },
    {
      "cell_type": "code",
      "execution_count": null,
      "id": "29cc370d-51b2-41e0-ab01-8be836108026",
      "metadata": {
        "id": "29cc370d-51b2-41e0-ab01-8be836108026"
      },
      "outputs": [],
      "source": [
        "shors_algorithm(15)"
      ]
    },
    {
      "cell_type": "code",
      "execution_count": null,
      "id": "1f0ccb4c-c380-40fc-bb0e-dc9193136e92",
      "metadata": {
        "id": "1f0ccb4c-c380-40fc-bb0e-dc9193136e92"
      },
      "outputs": [],
      "source": []
    },
    {
      "cell_type": "code",
      "execution_count": null,
      "id": "824d69cd-6cca-4b17-9958-6b0d87f6ec39",
      "metadata": {
        "id": "824d69cd-6cca-4b17-9958-6b0d87f6ec39"
      },
      "outputs": [],
      "source": []
    },
    {
      "cell_type": "code",
      "execution_count": null,
      "id": "0a8e9637-eb6e-4d6e-a4bb-a9239deca531",
      "metadata": {
        "id": "0a8e9637-eb6e-4d6e-a4bb-a9239deca531"
      },
      "outputs": [],
      "source": []
    },
    {
      "cell_type": "code",
      "execution_count": null,
      "id": "279f09b7-fa19-4887-afc0-6b6d014e3d04",
      "metadata": {
        "id": "279f09b7-fa19-4887-afc0-6b6d014e3d04"
      },
      "outputs": [],
      "source": []
    },
    {
      "cell_type": "code",
      "execution_count": null,
      "id": "8ed5cae5-75b4-4c3d-a26c-816b2ab50856",
      "metadata": {
        "id": "8ed5cae5-75b4-4c3d-a26c-816b2ab50856"
      },
      "outputs": [],
      "source": []
    }
  ],
  "metadata": {
    "kernelspec": {
      "display_name": "Python 3 [Default]",
      "language": "python",
      "name": "python3"
    },
    "language_info": {
      "codemirror_mode": {
        "name": "ipython",
        "version": 3
      },
      "file_extension": ".py",
      "mimetype": "text/x-python",
      "name": "python",
      "nbconvert_exporter": "python",
      "pygments_lexer": "ipython3",
      "version": "3.11.9"
    },
    "colab": {
      "provenance": []
    }
  },
  "nbformat": 4,
  "nbformat_minor": 5
}