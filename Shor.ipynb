{
  "cells": [
    {
      "cell_type": "markdown",
      "id": "85955e61-324f-4412-9bac-e6dd69699824",
      "metadata": {
        "id": "85955e61-324f-4412-9bac-e6dd69699824"
      },
      "source": [
        "Note: Be sure to use your API token and your account name."
      ]
    },
    {
      "cell_type": "markdown",
      "id": "ef5152de-a79d-4a8e-9870-77a2d13e265e",
      "metadata": {
        "id": "ef5152de-a79d-4a8e-9870-77a2d13e265e"
      },
      "source": [
        "Step 1. Import the required modules and obtain the backend"
      ]
    },
    {
      "cell_type": "code",
      "execution_count": null,
      "id": "db130cf2-8484-4b94-b64a-9b41f00e1162",
      "metadata": {
        "id": "db130cf2-8484-4b94-b64a-9b41f00e1162",
        "outputId": "a66ae4ad-50ff-4ef4-ddcd-e4ed37c6a8a9",
        "colab": {
          "base_uri": "https://localhost:8080/"
        }
      },
      "outputs": [
        {
          "output_type": "stream",
          "name": "stdout",
          "text": [
            "Collecting QuantumRingsLib\n",
            "  Downloading QuantumRingsLib-0.9.11-cp311-cp311-manylinux_2_34_x86_64.whl.metadata (21 kB)\n",
            "Downloading QuantumRingsLib-0.9.11-cp311-cp311-manylinux_2_34_x86_64.whl (1.5 MB)\n",
            "\u001b[?25l   \u001b[90m━━━━━━━━━━━━━━━━━━━━━━━━━━━━━━━━━━━━━━━━\u001b[0m \u001b[32m0.0/1.5 MB\u001b[0m \u001b[31m?\u001b[0m eta \u001b[36m-:--:--\u001b[0m\r\u001b[2K   \u001b[91m━━━━━━━━━━━━━━━\u001b[0m\u001b[91m╸\u001b[0m\u001b[90m━━━━━━━━━━━━━━━━━━━━━━━━\u001b[0m \u001b[32m0.6/1.5 MB\u001b[0m \u001b[31m17.5 MB/s\u001b[0m eta \u001b[36m0:00:01\u001b[0m\r\u001b[2K   \u001b[90m━━━━━━━━━━━━━━━━━━━━━━━━━━━━━━━━━━━━━━━━\u001b[0m \u001b[32m1.5/1.5 MB\u001b[0m \u001b[31m21.6 MB/s\u001b[0m eta \u001b[36m0:00:00\u001b[0m\n",
            "\u001b[?25hInstalling collected packages: QuantumRingsLib\n",
            "Successfully installed QuantumRingsLib-0.9.11\n"
          ]
        }
      ],
      "source": [
        "! pip install qiskit\n",
        "import qiskit"
      ]
    },
    {
      "cell_type": "code",
      "execution_count": null,
      "id": "1098cc1a-6195-4fb4-87bb-9001779b002c",
      "metadata": {
        "id": "1098cc1a-6195-4fb4-87bb-9001779b002c",
        "outputId": "59860e22-1e1b-47ba-80d6-51335e15596e",
        "colab": {
          "base_uri": "https://localhost:8080/"
        }
      },
      "outputs": [
        {
          "output_type": "execute_result",
          "data": {
            "text/plain": [
              "{'name': '256-@tutanota.de',\n",
              " 'token': 'rings-64.O2sYUTjDURXkj8yJicIQp1LItQOfroFS',\n",
              " 'max_qubits': '64'}"
            ]
          },
          "metadata": {},
          "execution_count": 2
        }
      ],
      "source": [
        "from matplotlib import pyplot as plt\n",
        "import numpy as np\n",
        "import math\n",
        "from math import *\n",
        "from qiskit import Aer, transpile, QuantumCircuit\n",
        "from qiskit.providers.aer import QasmSimulator\n",
        "from qiskit.providers.aer.noise import NoiseModel\n",
        "from qiskit.visualization import plot_histogram\n"
      ]
    },
    {
      "cell_type": "code",
      "execution_count": null,
      "id": "7d558f27-e5c8-429a-89a0-7b87327570c7",
      "metadata": {
        "scrolled": true,
        "id": "7d558f27-e5c8-429a-89a0-7b87327570c7",
        "outputId": "5f524cb8-bef2-42d5-9f0f-ee11a169f90b",
        "colab": {
          "base_uri": "https://localhost:8080/"
        }
      },
      "outputs": [
        {
          "output_type": "stream",
          "name": "stdout",
          "text": [
            "Collecting quantumrings-toolkit-qiskit\n",
            "  Downloading quantumrings_toolkit_qiskit-0.1.9-py3-none-any.whl.metadata (15 kB)\n",
            "Requirement already satisfied: numpy in /usr/local/lib/python3.11/dist-packages (from quantumrings-toolkit-qiskit) (1.26.4)\n",
            "Collecting qiskit (from quantumrings-toolkit-qiskit)\n",
            "  Downloading qiskit-1.4.0-cp39-abi3-manylinux_2_17_x86_64.manylinux2014_x86_64.whl.metadata (12 kB)\n",
            "Requirement already satisfied: QuantumRingsLib in /usr/local/lib/python3.11/dist-packages (from quantumrings-toolkit-qiskit) (0.9.11)\n",
            "Collecting rustworkx>=0.15.0 (from qiskit->quantumrings-toolkit-qiskit)\n",
            "  Downloading rustworkx-0.16.0-cp39-abi3-manylinux_2_17_x86_64.manylinux2014_x86_64.whl.metadata (10 kB)\n",
            "Requirement already satisfied: scipy>=1.5 in /usr/local/lib/python3.11/dist-packages (from qiskit->quantumrings-toolkit-qiskit) (1.13.1)\n",
            "Requirement already satisfied: sympy>=1.3 in /usr/local/lib/python3.11/dist-packages (from qiskit->quantumrings-toolkit-qiskit) (1.13.1)\n",
            "Collecting dill>=0.3 (from qiskit->quantumrings-toolkit-qiskit)\n",
            "  Downloading dill-0.3.9-py3-none-any.whl.metadata (10 kB)\n",
            "Requirement already satisfied: python-dateutil>=2.8.0 in /usr/local/lib/python3.11/dist-packages (from qiskit->quantumrings-toolkit-qiskit) (2.8.2)\n",
            "Collecting stevedore>=3.0.0 (from qiskit->quantumrings-toolkit-qiskit)\n",
            "  Downloading stevedore-5.4.1-py3-none-any.whl.metadata (2.3 kB)\n",
            "Requirement already satisfied: typing-extensions in /usr/local/lib/python3.11/dist-packages (from qiskit->quantumrings-toolkit-qiskit) (4.12.2)\n",
            "Collecting symengine<0.14,>=0.11 (from qiskit->quantumrings-toolkit-qiskit)\n",
            "  Downloading symengine-0.13.0-cp311-cp311-manylinux_2_17_x86_64.manylinux2014_x86_64.whl.metadata (1.2 kB)\n",
            "Requirement already satisfied: six>=1.5 in /usr/local/lib/python3.11/dist-packages (from python-dateutil>=2.8.0->qiskit->quantumrings-toolkit-qiskit) (1.17.0)\n",
            "Collecting pbr>=2.0.0 (from stevedore>=3.0.0->qiskit->quantumrings-toolkit-qiskit)\n",
            "  Downloading pbr-6.1.1-py2.py3-none-any.whl.metadata (3.4 kB)\n",
            "Requirement already satisfied: mpmath<1.4,>=1.1.0 in /usr/local/lib/python3.11/dist-packages (from sympy>=1.3->qiskit->quantumrings-toolkit-qiskit) (1.3.0)\n",
            "Requirement already satisfied: setuptools in /usr/local/lib/python3.11/dist-packages (from pbr>=2.0.0->stevedore>=3.0.0->qiskit->quantumrings-toolkit-qiskit) (75.1.0)\n",
            "Downloading quantumrings_toolkit_qiskit-0.1.9-py3-none-any.whl (52 kB)\n",
            "\u001b[2K   \u001b[90m━━━━━━━━━━━━━━━━━━━━━━━━━━━━━━━━━━━━━━━━\u001b[0m \u001b[32m52.6/52.6 kB\u001b[0m \u001b[31m3.2 MB/s\u001b[0m eta \u001b[36m0:00:00\u001b[0m\n",
            "\u001b[?25hDownloading qiskit-1.4.0-cp39-abi3-manylinux_2_17_x86_64.manylinux2014_x86_64.whl (6.7 MB)\n",
            "\u001b[2K   \u001b[90m━━━━━━━━━━━━━━━━━━━━━━━━━━━━━━━━━━━━━━━━\u001b[0m \u001b[32m6.7/6.7 MB\u001b[0m \u001b[31m51.8 MB/s\u001b[0m eta \u001b[36m0:00:00\u001b[0m\n",
            "\u001b[?25hDownloading dill-0.3.9-py3-none-any.whl (119 kB)\n",
            "\u001b[2K   \u001b[90m━━━━━━━━━━━━━━━━━━━━━━━━━━━━━━━━━━━━━━━━\u001b[0m \u001b[32m119.4/119.4 kB\u001b[0m \u001b[31m7.5 MB/s\u001b[0m eta \u001b[36m0:00:00\u001b[0m\n",
            "\u001b[?25hDownloading rustworkx-0.16.0-cp39-abi3-manylinux_2_17_x86_64.manylinux2014_x86_64.whl (2.1 MB)\n",
            "\u001b[2K   \u001b[90m━━━━━━━━━━━━━━━━━━━━━━━━━━━━━━━━━━━━━━━━\u001b[0m \u001b[32m2.1/2.1 MB\u001b[0m \u001b[31m41.6 MB/s\u001b[0m eta \u001b[36m0:00:00\u001b[0m\n",
            "\u001b[?25hDownloading stevedore-5.4.1-py3-none-any.whl (49 kB)\n",
            "\u001b[2K   \u001b[90m━━━━━━━━━━━━━━━━━━━━━━━━━━━━━━━━━━━━━━━━\u001b[0m \u001b[32m49.5/49.5 kB\u001b[0m \u001b[31m2.3 MB/s\u001b[0m eta \u001b[36m0:00:00\u001b[0m\n",
            "\u001b[?25hDownloading symengine-0.13.0-cp311-cp311-manylinux_2_17_x86_64.manylinux2014_x86_64.whl (49.7 MB)\n",
            "\u001b[2K   \u001b[90m━━━━━━━━━━━━━━━━━━━━━━━━━━━━━━━━━━━━━━━━\u001b[0m \u001b[32m49.7/49.7 MB\u001b[0m \u001b[31m11.4 MB/s\u001b[0m eta \u001b[36m0:00:00\u001b[0m\n",
            "\u001b[?25hDownloading pbr-6.1.1-py2.py3-none-any.whl (108 kB)\n",
            "\u001b[2K   \u001b[90m━━━━━━━━━━━━━━━━━━━━━━━━━━━━━━━━━━━━━━━━\u001b[0m \u001b[32m109.0/109.0 kB\u001b[0m \u001b[31m6.2 MB/s\u001b[0m eta \u001b[36m0:00:00\u001b[0m\n",
            "\u001b[?25hInstalling collected packages: symengine, rustworkx, pbr, dill, stevedore, qiskit, quantumrings-toolkit-qiskit\n",
            "Successfully installed dill-0.3.9 pbr-6.1.1 qiskit-1.4.0 quantumrings-toolkit-qiskit-0.1.9 rustworkx-0.16.0 stevedore-5.4.1 symengine-0.13.0\n"
          ]
        }
      ],
      "source": [
        "%pip install quantumrings-toolkit-qiskit\n"
      ]
    },
    {
      "cell_type": "markdown",
      "id": "f92608ce-86bd-4760-bc1c-ca7e722ae280",
      "metadata": {
        "id": "f92608ce-86bd-4760-bc1c-ca7e722ae280"
      },
      "source": [
        "Step 2. Define the core methods"
      ]
    },
    {
      "cell_type": "code",
      "execution_count": null,
      "id": "a7c5dd4f-4c8f-448e-83ce-7b887199becc",
      "metadata": {
        "id": "a7c5dd4f-4c8f-448e-83ce-7b887199becc"
      },
      "outputs": [],
      "source": [
        "from qiskit import QuantumCircuit, QuantumRegister, ClassicalRegister\n",
        "from qiskit.circuit.library import QFT\n",
        "from fractions import Fraction\n",
        "\n",
        "def quantum_phase_estimation(a: int, N: int) -> QuantumCircuit:\n",
        "    \"\"\"\n",
        "    Implements the quantum phase estimation part of Shor's algorithm.\n",
        "\n",
        "    Args:\n",
        "        a (int): The base for modular exponentiation\n",
        "        N (int): The number to be factored\n",
        "\n",
        "    Returns:\n",
        "        QuantumCircuit: The quantum circuit for phase estimation\n",
        "    \"\"\"\n",
        "    # Calculate required number of qubits\n",
        "    n = len(bin(N)[2:])  # number of qubits needed to store N\n",
        "    t = 2 * n  # number of counting qubits\n",
        "\n",
        "    # Create quantum registers\n",
        "    counting_register = QuantumRegister(t, 'count')\n",
        "    phase_register = QuantumRegister(n, 'phase')\n",
        "    classical_register = ClassicalRegister(t, 'classical')\n",
        "\n",
        "    # Create quantum circuit\n",
        "    qc = QuantumCircuit(counting_register, phase_register, classical_register)\n",
        "\n",
        "    # Initialize counting register to superposition\n",
        "    for qubit in range(t):\n",
        "        qc.h(counting_register[qubit])\n",
        "\n",
        "    # Initialize phase register to |1⟩\n",
        "    qc.x(phase_register[0])\n",
        "\n",
        "    # Apply controlled modular multiplication\n",
        "    for i in range(t):\n",
        "        power = (a**(2**i))%N\n",
        "        controlled_mod_mult(qc, power, N, counting_register[i], phase_register)\n",
        "\n",
        "    # Apply inverse QFT\n",
        "    qc.append(QFT(t).inverse(), counting_register)\n",
        "\n",
        "    # Measure counting register\n",
        "    qc.measure(counting_register, classical_register)\n",
        "\n",
        "    return qc\n",
        "\n",
        "def controlled_mod_mult(qc: QuantumCircuit, a: int, N: int, control: int, target: list) -> None:\n",
        "    \"\"\"\n",
        "    Applies controlled modular multiplication.\n",
        "\n",
        "    Args:\n",
        "        qc (QuantumCircuit): The quantum circuit to modify\n",
        "        a (int): Base for modular exponentiation\n",
        "        N (int): Modulus\n",
        "        control (int): Control qubit index\n",
        "        target (list): Target register\n",
        "    \"\"\"\n",
        "    n = len(target)\n",
        "\n",
        "    # Convert 'a' to binary representation\n",
        "    binary_a = bin(a)[2:].zfill(n)\n",
        "\n",
        "    for i in range(n):\n",
        "        if binary_a[i] == '1':\n",
        "            qc.cx(control, target[i])\n",
        "\n",
        "def find_period(a: int, N: int) -> int:\n",
        "    \"\"\"\n",
        "    Finds the period of f(x) = a^x mod N using quantum phase estimation.\n",
        "\n",
        "    Args:\n",
        "        a (int): Base for modular exponentiation\n",
        "        N (int): Number to factor\n",
        "\n",
        "    Returns:\n",
        "        int: The period of the modular exponentiation function\n",
        "    \"\"\"\n",
        "    # Create and execute quantum circuit\n",
        "    qc = quantum_phase_estimation(a, N)\n",
        "\n",
        "    # Note: In a real quantum computer, you would execute the circuit here\n",
        "    # and process the results to find the period\n",
        "\n",
        "    # For simulation purposes, we'll calculate the period classically\n",
        "    # This is just to demonstrate the structure\n",
        "    x = 1\n",
        "    period = 1\n",
        "    while True:\n",
        "        x = (x * a) % N\n",
        "        if x == 1:\n",
        "            return period\n",
        "        period += 1\n",
        "\n",
        "def shors_algorithm(N: int) -> tuple:\n",
        "    \"\"\"\n",
        "    Implements Shor's algorithm to factor a number N.\n",
        "\n",
        "    Args:\n",
        "        N (int): The number to factor\n",
        "\n",
        "    Returns:\n",
        "        tuple: A pair of factors of N\n",
        "    \"\"\"\n",
        "    if N % 2 == 0:\n",
        "        return (2, N//2)\n",
        "\n",
        "    # Choose random number a < N\n",
        "    a = np.random.randint(2, N)\n",
        "\n",
        "    # Check if we got lucky with GCD\n",
        "    factor = gcd(a, N)\n",
        "    if factor > 1:\n",
        "        return (factor, N//factor)\n",
        "\n",
        "    # Find period using quantum subroutine\n",
        "    r = find_period(a, N)\n",
        "\n",
        "    # If period is odd, try again\n",
        "    if r % 2 != 0:\n",
        "        return shors_algorithm(N)\n",
        "\n",
        "    # Calculate potential factors\n",
        "    factor = gcd(pow(a, r//2, N) - 1, N)\n",
        "    if factor == 1 or factor == N:\n",
        "        return shors_algorithm(N)\n",
        "\n",
        "    return (factor, N//factor)\n",
        "\n"
      ]
    },
    {
      "cell_type": "markdown",
      "id": "2f211c13-04db-4f78-b700-5bde24875ab8",
      "metadata": {
        "id": "2f211c13-04db-4f78-b700-5bde24875ab8"
      },
      "source": [
        "Step 3. Perform the algorithm"
      ]
    },
    {
      "cell_type": "markdown",
      "id": "d69fcca9-6545-4f8a-9758-0865e240a57e",
      "metadata": {
        "id": "d69fcca9-6545-4f8a-9758-0865e240a57e"
      },
      "source": [
        "A plot of the execution results is shown above. Compare this with the calculated values."
      ]
    },
    {
      "cell_type": "code",
      "execution_count": null,
      "id": "29cc370d-51b2-41e0-ab01-8be836108026",
      "metadata": {
        "id": "29cc370d-51b2-41e0-ab01-8be836108026",
        "outputId": "06fe553d-bcb4-4a63-c15c-c9f1efa01533",
        "colab": {
          "base_uri": "https://localhost:8080/"
        }
      },
      "outputs": [
        {
          "output_type": "execute_result",
          "data": {
            "text/plain": [
              "(5, 3)"
            ]
          },
          "metadata": {},
          "execution_count": 11
        }
      ],
      "source": [
        "shors_algorithm(15)"
      ]
    },
    {
      "cell_type": "code",
      "execution_count": 1,
      "id": "8ed5cae5-75b4-4c3d-a26c-816b2ab50856",
      "metadata": {
        "id": "8ed5cae5-75b4-4c3d-a26c-816b2ab50856",
        "outputId": "4419b1fe-7fd2-4c4a-dbd5-630173676f6a",
        "colab": {
          "base_uri": "https://localhost:8080/",
          "height": 221
        }
      },
      "outputs": [
        {
          "output_type": "error",
          "ename": "NameError",
          "evalue": "name 'Aer' is not defined",
          "traceback": [
            "\u001b[0;31m---------------------------------------------------------------------------\u001b[0m",
            "\u001b[0;31mNameError\u001b[0m                                 Traceback (most recent call last)",
            "\u001b[0;32m<ipython-input-1-0e8d0abc3f1b>\u001b[0m in \u001b[0;36m<cell line: 0>\u001b[0;34m()\u001b[0m\n\u001b[1;32m      1\u001b[0m \u001b[0;31m# Run on ideal simulator\u001b[0m\u001b[0;34m\u001b[0m\u001b[0;34m\u001b[0m\u001b[0m\n\u001b[0;32m----> 2\u001b[0;31m \u001b[0mideal_sim\u001b[0m \u001b[0;34m=\u001b[0m \u001b[0mAer\u001b[0m\u001b[0;34m.\u001b[0m\u001b[0mget_backend\u001b[0m\u001b[0;34m(\u001b[0m\u001b[0;34m'aer_simulator'\u001b[0m\u001b[0;34m)\u001b[0m\u001b[0;34m\u001b[0m\u001b[0;34m\u001b[0m\u001b[0m\n\u001b[0m\u001b[1;32m      3\u001b[0m \u001b[0mideal_result\u001b[0m \u001b[0;34m=\u001b[0m \u001b[0mideal_sim\u001b[0m\u001b[0;34m.\u001b[0m\u001b[0mrun\u001b[0m\u001b[0;34m(\u001b[0m\u001b[0mtranspile\u001b[0m\u001b[0;34m(\u001b[0m\u001b[0mshors_algorithm\u001b[0m\u001b[0;34m(\u001b[0m\u001b[0;36m15\u001b[0m\u001b[0;34m)\u001b[0m\u001b[0;34m,\u001b[0m \u001b[0mideal_sim\u001b[0m\u001b[0;34m)\u001b[0m\u001b[0;34m)\u001b[0m\u001b[0;34m.\u001b[0m\u001b[0mresult\u001b[0m\u001b[0;34m(\u001b[0m\u001b[0;34m)\u001b[0m\u001b[0;34m\u001b[0m\u001b[0;34m\u001b[0m\u001b[0m\n\u001b[1;32m      4\u001b[0m \u001b[0mideal_counts\u001b[0m \u001b[0;34m=\u001b[0m \u001b[0mideal_result\u001b[0m\u001b[0;34m.\u001b[0m\u001b[0mget_counts\u001b[0m\u001b[0;34m(\u001b[0m\u001b[0;34m)\u001b[0m\u001b[0;34m\u001b[0m\u001b[0;34m\u001b[0m\u001b[0m\n\u001b[1;32m      5\u001b[0m \u001b[0;34m\u001b[0m\u001b[0m\n",
            "\u001b[0;31mNameError\u001b[0m: name 'Aer' is not defined"
          ]
        }
      ],
      "source": [
        "# Run on ideal simulator\n",
        "ideal_sim = Aer.get_backend('aer_simulator')\n",
        "ideal_result = ideal_sim.run(transpile(shors_algorithm(15), ideal_sim)).result()\n",
        "ideal_counts = ideal_result.get_counts()\n",
        "\n",
        "# Create a noise model (this is simplified)\n",
        "noise_model = NoiseModel()\n",
        "# Add appropriate noise parameters to the model\n",
        "# noise_model.add_all_qubit_quantum_error(error, ['u1', 'u2', 'u3'])\n",
        "\n",
        "# Run with noise model\n",
        "noisy_sim = QasmSimulator(noise_model=noise_model)\n",
        "noisy_result = noisy_sim.run(transpile(shors_algorithm(15), noisy_sim)).result()\n",
        "noisy_counts = noisy_result.get_counts()\n",
        "\n",
        "# Compare results\n",
        "print(\"Ideal results:\", ideal_counts)\n",
        "print(\"Noisy results:\", noisy_counts)"
      ]
    }
  ],
  "metadata": {
    "kernelspec": {
      "display_name": "Python 3 [Default]",
      "language": "python",
      "name": "python3"
    },
    "language_info": {
      "codemirror_mode": {
        "name": "ipython",
        "version": 3
      },
      "file_extension": ".py",
      "mimetype": "text/x-python",
      "name": "python",
      "nbconvert_exporter": "python",
      "pygments_lexer": "ipython3",
      "version": "3.11.9"
    },
    "colab": {
      "provenance": []
    }
  },
  "nbformat": 4,
  "nbformat_minor": 5
}